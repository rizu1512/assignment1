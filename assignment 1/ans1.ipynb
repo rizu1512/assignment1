{
 "cells": [
  {
   "cell_type": "markdown",
   "id": "02d6ff6a",
   "metadata": {},
   "source": [
    "# Ans 1\n"
   ]
  },
  {
   "cell_type": "code",
   "execution_count": 4,
   "id": "5a42a5c7",
   "metadata": {},
   "outputs": [
    {
     "name": "stdout",
     "output_type": "stream",
     "text": [
      "Twinkle,Twinkle,little star, \n",
      "\t How i wonder what you are! \n",
      "\t\t up above the world so high, \n",
      "\t\t like a diamond in the sky \n",
      " Twinkle,Twinkle,little star, \n",
      "\t How i wonder what you are!\n"
     ]
    }
   ],
   "source": [
    "first=\"Twinkle,Twinkle,little star,\"\n",
    "second=\"How i wonder what you are!\"\n",
    "th=\"up above the world so high,\"\n",
    "fo=\"like a diamond in the sky\"\n",
    "print(first,\"\\n\\t\",second,\"\\n\\t\\t\",th,\"\\n\\t\\t\",fo,\"\\n\",first,\"\\n\\t\",second)\n"
   ]
  },
  {
   "cell_type": "markdown",
   "id": "cfdba480",
   "metadata": {},
   "source": [
    "\n"
   ]
  },
  {
   "cell_type": "markdown",
   "id": "f6fcaf4d",
   "metadata": {},
   "source": [
    "# ans no 2"
   ]
  },
  {
   "cell_type": "markdown",
   "id": "2a76acb3",
   "metadata": {},
   "source": [
    "A string holding the Python interpreter's version number as well as other information about the build number and compiler used. When the interactive interpreter is launched, this string is shown."
   ]
  },
  {
   "cell_type": "code",
   "execution_count": null,
   "id": "89937668",
   "metadata": {},
   "outputs": [],
   "source": []
  },
  {
   "cell_type": "markdown",
   "id": "74db6a34",
   "metadata": {},
   "source": [
    "# ans 3"
   ]
  },
  {
   "cell_type": "code",
   "execution_count": 6,
   "id": "aaa39af2",
   "metadata": {},
   "outputs": [
    {
     "name": "stdout",
     "output_type": "stream",
     "text": [
      "2022-01-01 16:28:31.319568\n"
     ]
    }
   ],
   "source": [
    "from datetime import datetime\n",
    "now = datetime.now()\n",
    "print(now)\n"
   ]
  },
  {
   "cell_type": "code",
   "execution_count": null,
   "id": "e738e116",
   "metadata": {},
   "outputs": [],
   "source": []
  },
  {
   "cell_type": "markdown",
   "id": "febd0b47",
   "metadata": {},
   "source": [
    "# Ans 4"
   ]
  },
  {
   "cell_type": "code",
   "execution_count": 7,
   "id": "eb457165",
   "metadata": {},
   "outputs": [
    {
     "name": "stdout",
     "output_type": "stream",
     "text": [
      "Enter radius of circle : 4\n",
      "Area of the circle is:  50.26548245744\n"
     ]
    }
   ],
   "source": [
    "pi=3.14159265359\n",
    "r = float(input (\"Enter radius of circle : \"))\n",
    "a=pi*r**2\n",
    "print (\"Area of the circle is: \" ,a)\n"
   ]
  },
  {
   "cell_type": "code",
   "execution_count": null,
   "id": "ec5631a3",
   "metadata": {},
   "outputs": [],
   "source": []
  },
  {
   "cell_type": "markdown",
   "id": "3fcb66f5",
   "metadata": {},
   "source": [
    "# Ans 5"
   ]
  },
  {
   "cell_type": "code",
   "execution_count": 8,
   "id": "42f5cf58",
   "metadata": {},
   "outputs": [
    {
     "name": "stdout",
     "output_type": "stream",
     "text": [
      "Enter your first name muhammad \n",
      "Enter your last nameRizwan\n",
      "Rizwan muhammad \n"
     ]
    }
   ],
   "source": [
    "\n",
    "fname=input(\"Enter your first name \")\n",
    "lname=input(\"Enter your last name\")\n",
    "print(lname + \" \" + fname)\n"
   ]
  },
  {
   "cell_type": "markdown",
   "id": "f0b8f2bc",
   "metadata": {},
   "source": [
    "# Ans 6"
   ]
  },
  {
   "cell_type": "code",
   "execution_count": 9,
   "id": "193543da",
   "metadata": {},
   "outputs": [
    {
     "name": "stdout",
     "output_type": "stream",
     "text": [
      "Enter first number:3\n",
      "Enter second number:4\n",
      "7\n"
     ]
    }
   ],
   "source": [
    "a = int(input(\"Enter first number:\"))\n",
    "b = int(input(\"Enter second number:\"))\n",
    "sum = a+b\n",
    "print(sum)\n"
   ]
  },
  {
   "cell_type": "code",
   "execution_count": null,
   "id": "3f6066e4",
   "metadata": {},
   "outputs": [],
   "source": []
  }
 ],
 "metadata": {
  "kernelspec": {
   "display_name": "Python 3",
   "language": "python",
   "name": "python3"
  },
  "language_info": {
   "codemirror_mode": {
    "name": "ipython",
    "version": 3
   },
   "file_extension": ".py",
   "mimetype": "text/x-python",
   "name": "python",
   "nbconvert_exporter": "python",
   "pygments_lexer": "ipython3",
   "version": "3.8.8"
  }
 },
 "nbformat": 4,
 "nbformat_minor": 5
}
